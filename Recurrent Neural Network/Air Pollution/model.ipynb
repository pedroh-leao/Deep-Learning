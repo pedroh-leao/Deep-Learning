{
 "cells": [
  {
   "cell_type": "markdown",
   "metadata": {},
   "source": [
    "# Recurrent Neural Network To Predict The Pollution Level\n",
    "\n",
    "Using multiple attributes of the dataset to make the prediction."
   ]
  },
  {
   "cell_type": "code",
   "execution_count": 1,
   "metadata": {},
   "outputs": [],
   "source": [
    "import pandas as pd\n",
    "import tensorflow as tf\n",
    "import numpy as np\n",
    "import matplotlib.pyplot as plt"
   ]
  },
  {
   "cell_type": "code",
   "execution_count": 37,
   "metadata": {},
   "outputs": [],
   "source": [
    "from sklearn.preprocessing import MinMaxScaler\n",
    "from tensorflow.keras.models import Sequential\n",
    "from tensorflow.keras.layers import LSTM, Dense, Dropout\n",
    "from tensorflow.keras.callbacks import EarlyStopping, ReduceLROnPlateau, ModelCheckpoint\n",
    "from sklearn.model_selection import train_test_split"
   ]
  },
  {
   "cell_type": "code",
   "execution_count": 30,
   "metadata": {},
   "outputs": [
    {
     "data": {
      "text/html": [
       "<div>\n",
       "<style scoped>\n",
       "    .dataframe tbody tr th:only-of-type {\n",
       "        vertical-align: middle;\n",
       "    }\n",
       "\n",
       "    .dataframe tbody tr th {\n",
       "        vertical-align: top;\n",
       "    }\n",
       "\n",
       "    .dataframe thead th {\n",
       "        text-align: right;\n",
       "    }\n",
       "</style>\n",
       "<table border=\"1\" class=\"dataframe\">\n",
       "  <thead>\n",
       "    <tr style=\"text-align: right;\">\n",
       "      <th></th>\n",
       "      <th>pm2.5</th>\n",
       "      <th>DEWP</th>\n",
       "      <th>TEMP</th>\n",
       "      <th>PRES</th>\n",
       "      <th>Iws</th>\n",
       "      <th>Is</th>\n",
       "      <th>Ir</th>\n",
       "    </tr>\n",
       "  </thead>\n",
       "  <tbody>\n",
       "    <tr>\n",
       "      <th>24</th>\n",
       "      <td>129.0</td>\n",
       "      <td>-16</td>\n",
       "      <td>-4.0</td>\n",
       "      <td>1020.0</td>\n",
       "      <td>1.79</td>\n",
       "      <td>0</td>\n",
       "      <td>0</td>\n",
       "    </tr>\n",
       "    <tr>\n",
       "      <th>25</th>\n",
       "      <td>148.0</td>\n",
       "      <td>-15</td>\n",
       "      <td>-4.0</td>\n",
       "      <td>1020.0</td>\n",
       "      <td>2.68</td>\n",
       "      <td>0</td>\n",
       "      <td>0</td>\n",
       "    </tr>\n",
       "    <tr>\n",
       "      <th>26</th>\n",
       "      <td>159.0</td>\n",
       "      <td>-11</td>\n",
       "      <td>-5.0</td>\n",
       "      <td>1021.0</td>\n",
       "      <td>3.57</td>\n",
       "      <td>0</td>\n",
       "      <td>0</td>\n",
       "    </tr>\n",
       "    <tr>\n",
       "      <th>27</th>\n",
       "      <td>181.0</td>\n",
       "      <td>-7</td>\n",
       "      <td>-5.0</td>\n",
       "      <td>1022.0</td>\n",
       "      <td>5.36</td>\n",
       "      <td>1</td>\n",
       "      <td>0</td>\n",
       "    </tr>\n",
       "    <tr>\n",
       "      <th>28</th>\n",
       "      <td>138.0</td>\n",
       "      <td>-7</td>\n",
       "      <td>-5.0</td>\n",
       "      <td>1022.0</td>\n",
       "      <td>6.25</td>\n",
       "      <td>2</td>\n",
       "      <td>0</td>\n",
       "    </tr>\n",
       "    <tr>\n",
       "      <th>...</th>\n",
       "      <td>...</td>\n",
       "      <td>...</td>\n",
       "      <td>...</td>\n",
       "      <td>...</td>\n",
       "      <td>...</td>\n",
       "      <td>...</td>\n",
       "      <td>...</td>\n",
       "    </tr>\n",
       "    <tr>\n",
       "      <th>43819</th>\n",
       "      <td>8.0</td>\n",
       "      <td>-23</td>\n",
       "      <td>-2.0</td>\n",
       "      <td>1034.0</td>\n",
       "      <td>231.97</td>\n",
       "      <td>0</td>\n",
       "      <td>0</td>\n",
       "    </tr>\n",
       "    <tr>\n",
       "      <th>43820</th>\n",
       "      <td>10.0</td>\n",
       "      <td>-22</td>\n",
       "      <td>-3.0</td>\n",
       "      <td>1034.0</td>\n",
       "      <td>237.78</td>\n",
       "      <td>0</td>\n",
       "      <td>0</td>\n",
       "    </tr>\n",
       "    <tr>\n",
       "      <th>43821</th>\n",
       "      <td>10.0</td>\n",
       "      <td>-22</td>\n",
       "      <td>-3.0</td>\n",
       "      <td>1034.0</td>\n",
       "      <td>242.70</td>\n",
       "      <td>0</td>\n",
       "      <td>0</td>\n",
       "    </tr>\n",
       "    <tr>\n",
       "      <th>43822</th>\n",
       "      <td>8.0</td>\n",
       "      <td>-22</td>\n",
       "      <td>-4.0</td>\n",
       "      <td>1034.0</td>\n",
       "      <td>246.72</td>\n",
       "      <td>0</td>\n",
       "      <td>0</td>\n",
       "    </tr>\n",
       "    <tr>\n",
       "      <th>43823</th>\n",
       "      <td>12.0</td>\n",
       "      <td>-21</td>\n",
       "      <td>-3.0</td>\n",
       "      <td>1034.0</td>\n",
       "      <td>249.85</td>\n",
       "      <td>0</td>\n",
       "      <td>0</td>\n",
       "    </tr>\n",
       "  </tbody>\n",
       "</table>\n",
       "<p>41757 rows × 7 columns</p>\n",
       "</div>"
      ],
      "text/plain": [
       "       pm2.5  DEWP  TEMP    PRES     Iws  Is  Ir\n",
       "24     129.0   -16  -4.0  1020.0    1.79   0   0\n",
       "25     148.0   -15  -4.0  1020.0    2.68   0   0\n",
       "26     159.0   -11  -5.0  1021.0    3.57   0   0\n",
       "27     181.0    -7  -5.0  1022.0    5.36   1   0\n",
       "28     138.0    -7  -5.0  1022.0    6.25   2   0\n",
       "...      ...   ...   ...     ...     ...  ..  ..\n",
       "43819    8.0   -23  -2.0  1034.0  231.97   0   0\n",
       "43820   10.0   -22  -3.0  1034.0  237.78   0   0\n",
       "43821   10.0   -22  -3.0  1034.0  242.70   0   0\n",
       "43822    8.0   -22  -4.0  1034.0  246.72   0   0\n",
       "43823   12.0   -21  -3.0  1034.0  249.85   0   0\n",
       "\n",
       "[41757 rows x 7 columns]"
      ]
     },
     "execution_count": 30,
     "metadata": {},
     "output_type": "execute_result"
    }
   ],
   "source": [
    "dataset = pd.read_csv('pollution.csv')\n",
    "dataset = dataset.dropna()\n",
    "dataset = dataset.drop(['No', 'year', 'month', 'day', 'hour', 'cbwd'], axis=1)\n",
    "dataset"
   ]
  },
  {
   "cell_type": "code",
   "execution_count": 31,
   "metadata": {},
   "outputs": [],
   "source": [
    "dataset = dataset.values"
   ]
  },
  {
   "cell_type": "code",
   "execution_count": 46,
   "metadata": {},
   "outputs": [
    {
     "data": {
      "text/plain": [
       "(41757, 7)"
      ]
     },
     "execution_count": 46,
     "metadata": {},
     "output_type": "execute_result"
    }
   ],
   "source": [
    "dataset.shape"
   ]
  },
  {
   "cell_type": "code",
   "execution_count": 27,
   "metadata": {},
   "outputs": [],
   "source": [
    "normalizer = MinMaxScaler(feature_range= (0, 1))\n",
    "\n",
    "dataset_normalized = normalizer.fit_transform(dataset)"
   ]
  },
  {
   "cell_type": "code",
   "execution_count": 32,
   "metadata": {},
   "outputs": [],
   "source": [
    "x, y = [], []\n",
    "\n",
    "for i in range(10, 41757):\n",
    "    x.append(dataset_normalized[i-10:i, 1:7])\n",
    "    y.append(dataset_normalized[i, 0])\n",
    "\n",
    "x, y = np.array(x), np.array(y)"
   ]
  },
  {
   "cell_type": "code",
   "execution_count": 33,
   "metadata": {},
   "outputs": [
    {
     "data": {
      "text/plain": [
       "(array([[0.35294118, 0.24590164, 0.52727273, 0.00237151, 0.        ,\n",
       "         0.        ],\n",
       "        [0.36764706, 0.24590164, 0.52727273, 0.00394662, 0.        ,\n",
       "         0.        ],\n",
       "        [0.42647059, 0.2295082 , 0.54545455, 0.00552173, 0.        ,\n",
       "         0.        ],\n",
       "        [0.48529412, 0.2295082 , 0.56363636, 0.00868965, 0.03703704,\n",
       "         0.        ],\n",
       "        [0.48529412, 0.2295082 , 0.56363636, 0.01026476, 0.07407407,\n",
       "         0.        ],\n",
       "        [0.48529412, 0.21311475, 0.56363636, 0.01183987, 0.11111111,\n",
       "         0.        ],\n",
       "        [0.48529412, 0.21311475, 0.58181818, 0.01500779, 0.14814815,\n",
       "         0.        ],\n",
       "        [0.48529412, 0.2295082 , 0.6       , 0.0181757 , 0.        ,\n",
       "         0.        ],\n",
       "        [0.47058824, 0.21311475, 0.6       , 0.02134362, 0.        ,\n",
       "         0.        ],\n",
       "        [0.48529412, 0.2295082 , 0.61818182, 0.02451154, 0.        ,\n",
       "         0.        ]]),\n",
       " (41747, 10, 6),\n",
       " 0.14084507042253522,\n",
       " (41747,))"
      ]
     },
     "execution_count": 33,
     "metadata": {},
     "output_type": "execute_result"
    }
   ],
   "source": [
    "x[0], x.shape, y[0], y.shape"
   ]
  },
  {
   "cell_type": "code",
   "execution_count": 38,
   "metadata": {},
   "outputs": [],
   "source": [
    "x_train, x_test, y_train, y_test = train_test_split(x, y, test_size= 0.15)"
   ]
  },
  {
   "cell_type": "code",
   "execution_count": 40,
   "metadata": {},
   "outputs": [
    {
     "name": "stderr",
     "output_type": "stream",
     "text": [
      "c:\\Users\\Pedro\\Documents\\codigos\\Deep-Learning\\venv\\Lib\\site-packages\\keras\\src\\layers\\rnn\\rnn.py:204: UserWarning: Do not pass an `input_shape`/`input_dim` argument to a layer. When using Sequential models, prefer using an `Input(shape)` object as the first layer in the model instead.\n",
      "  super().__init__(**kwargs)\n"
     ]
    }
   ],
   "source": [
    "model = Sequential()\n",
    "\n",
    "model.add(LSTM(units= 100, return_sequences=True, input_shape= (x.shape[1], 6)))\n",
    "model.add(Dropout(rate= 0.3))\n",
    "\n",
    "model.add(LSTM(units= 50, return_sequences=True))\n",
    "model.add(Dropout(rate= 0.3))\n",
    "\n",
    "model.add(LSTM(units= 50, return_sequences=True))\n",
    "model.add(Dropout(rate= 0.3))\n",
    "\n",
    "model.add(LSTM(units= 50))\n",
    "model.add(Dropout(rate= 0.3))\n",
    "\n",
    "model.add(Dense(units= 1, activation= 'linear'))\n",
    "\n",
    "model.compile(optimizer= tf.keras.optimizers.Adam(), loss= 'mean_squared_error', metrics= ['mean_absolute_error'])"
   ]
  },
  {
   "cell_type": "code",
   "execution_count": 41,
   "metadata": {},
   "outputs": [],
   "source": [
    "# defining callbacks\n",
    "es = EarlyStopping(monitor= 'loss', patience= 10, verbose= True, min_delta= 1e-10)\n",
    "rlr = ReduceLROnPlateau(monitor= 'loss', patience= 5, verbose= 1, factor= 0.2)\n",
    "mcp = ModelCheckpoint(filepath= 'weights.keras', monitor= 'loss', save_best_only= True, verbose= 1)"
   ]
  },
  {
   "cell_type": "code",
   "execution_count": 43,
   "metadata": {},
   "outputs": [
    {
     "name": "stdout",
     "output_type": "stream",
     "text": [
      "Epoch 1/100\n",
      "\u001b[1m278/278\u001b[0m \u001b[32m━━━━━━━━━━━━━━━━━━━━\u001b[0m\u001b[37m\u001b[0m \u001b[1m0s\u001b[0m 21ms/step - loss: 0.0066 - mean_absolute_error: 0.0584\n",
      "Epoch 1: loss improved from inf to 0.00641, saving model to weights.keras\n",
      "\u001b[1m278/278\u001b[0m \u001b[32m━━━━━━━━━━━━━━━━━━━━\u001b[0m\u001b[37m\u001b[0m \u001b[1m6s\u001b[0m 21ms/step - loss: 0.0066 - mean_absolute_error: 0.0584 - learning_rate: 0.0010\n",
      "Epoch 2/100\n",
      "\u001b[1m276/278\u001b[0m \u001b[32m━━━━━━━━━━━━━━━━━━━\u001b[0m\u001b[37m━\u001b[0m \u001b[1m0s\u001b[0m 21ms/step - loss: 0.0061 - mean_absolute_error: 0.0557\n",
      "Epoch 2: loss improved from 0.00641 to 0.00603, saving model to weights.keras\n",
      "\u001b[1m278/278\u001b[0m \u001b[32m━━━━━━━━━━━━━━━━━━━━\u001b[0m\u001b[37m\u001b[0m \u001b[1m6s\u001b[0m 21ms/step - loss: 0.0061 - mean_absolute_error: 0.0557 - learning_rate: 0.0010\n",
      "Epoch 3/100\n",
      "\u001b[1m277/278\u001b[0m \u001b[32m━━━━━━━━━━━━━━━━━━━\u001b[0m\u001b[37m━\u001b[0m \u001b[1m0s\u001b[0m 19ms/step - loss: 0.0058 - mean_absolute_error: 0.0543\n",
      "Epoch 3: loss improved from 0.00603 to 0.00575, saving model to weights.keras\n",
      "\u001b[1m278/278\u001b[0m \u001b[32m━━━━━━━━━━━━━━━━━━━━\u001b[0m\u001b[37m\u001b[0m \u001b[1m5s\u001b[0m 20ms/step - loss: 0.0058 - mean_absolute_error: 0.0543 - learning_rate: 0.0010\n",
      "Epoch 4/100\n",
      "\u001b[1m275/278\u001b[0m \u001b[32m━━━━━━━━━━━━━━━━━━━\u001b[0m\u001b[37m━\u001b[0m \u001b[1m0s\u001b[0m 20ms/step - loss: 0.0055 - mean_absolute_error: 0.0526\n",
      "Epoch 4: loss improved from 0.00575 to 0.00559, saving model to weights.keras\n",
      "\u001b[1m278/278\u001b[0m \u001b[32m━━━━━━━━━━━━━━━━━━━━\u001b[0m\u001b[37m\u001b[0m \u001b[1m6s\u001b[0m 20ms/step - loss: 0.0055 - mean_absolute_error: 0.0526 - learning_rate: 0.0010\n",
      "Epoch 5/100\n",
      "\u001b[1m277/278\u001b[0m \u001b[32m━━━━━━━━━━━━━━━━━━━\u001b[0m\u001b[37m━\u001b[0m \u001b[1m0s\u001b[0m 20ms/step - loss: 0.0056 - mean_absolute_error: 0.0529\n",
      "Epoch 5: loss improved from 0.00559 to 0.00554, saving model to weights.keras\n",
      "\u001b[1m278/278\u001b[0m \u001b[32m━━━━━━━━━━━━━━━━━━━━\u001b[0m\u001b[37m\u001b[0m \u001b[1m6s\u001b[0m 20ms/step - loss: 0.0056 - mean_absolute_error: 0.0529 - learning_rate: 0.0010\n",
      "Epoch 6/100\n",
      "\u001b[1m277/278\u001b[0m \u001b[32m━━━━━━━━━━━━━━━━━━━\u001b[0m\u001b[37m━\u001b[0m \u001b[1m0s\u001b[0m 19ms/step - loss: 0.0056 - mean_absolute_error: 0.0527\n",
      "Epoch 6: loss improved from 0.00554 to 0.00544, saving model to weights.keras\n",
      "\u001b[1m278/278\u001b[0m \u001b[32m━━━━━━━━━━━━━━━━━━━━\u001b[0m\u001b[37m\u001b[0m \u001b[1m5s\u001b[0m 19ms/step - loss: 0.0056 - mean_absolute_error: 0.0527 - learning_rate: 0.0010\n",
      "Epoch 7/100\n",
      "\u001b[1m277/278\u001b[0m \u001b[32m━━━━━━━━━━━━━━━━━━━\u001b[0m\u001b[37m━\u001b[0m \u001b[1m0s\u001b[0m 19ms/step - loss: 0.0054 - mean_absolute_error: 0.0519\n",
      "Epoch 7: loss improved from 0.00544 to 0.00536, saving model to weights.keras\n",
      "\u001b[1m278/278\u001b[0m \u001b[32m━━━━━━━━━━━━━━━━━━━━\u001b[0m\u001b[37m\u001b[0m \u001b[1m5s\u001b[0m 19ms/step - loss: 0.0054 - mean_absolute_error: 0.0519 - learning_rate: 0.0010\n",
      "Epoch 8/100\n",
      "\u001b[1m276/278\u001b[0m \u001b[32m━━━━━━━━━━━━━━━━━━━\u001b[0m\u001b[37m━\u001b[0m \u001b[1m0s\u001b[0m 22ms/step - loss: 0.0052 - mean_absolute_error: 0.0507\n",
      "Epoch 8: loss improved from 0.00536 to 0.00530, saving model to weights.keras\n",
      "\u001b[1m278/278\u001b[0m \u001b[32m━━━━━━━━━━━━━━━━━━━━\u001b[0m\u001b[37m\u001b[0m \u001b[1m6s\u001b[0m 22ms/step - loss: 0.0052 - mean_absolute_error: 0.0507 - learning_rate: 0.0010\n",
      "Epoch 9/100\n",
      "\u001b[1m277/278\u001b[0m \u001b[32m━━━━━━━━━━━━━━━━━━━\u001b[0m\u001b[37m━\u001b[0m \u001b[1m0s\u001b[0m 19ms/step - loss: 0.0054 - mean_absolute_error: 0.0515\n",
      "Epoch 9: loss improved from 0.00530 to 0.00529, saving model to weights.keras\n",
      "\u001b[1m278/278\u001b[0m \u001b[32m━━━━━━━━━━━━━━━━━━━━\u001b[0m\u001b[37m\u001b[0m \u001b[1m5s\u001b[0m 19ms/step - loss: 0.0054 - mean_absolute_error: 0.0515 - learning_rate: 0.0010\n",
      "Epoch 10/100\n",
      "\u001b[1m276/278\u001b[0m \u001b[32m━━━━━━━━━━━━━━━━━━━\u001b[0m\u001b[37m━\u001b[0m \u001b[1m0s\u001b[0m 19ms/step - loss: 0.0053 - mean_absolute_error: 0.0512\n",
      "Epoch 10: loss improved from 0.00529 to 0.00525, saving model to weights.keras\n",
      "\u001b[1m278/278\u001b[0m \u001b[32m━━━━━━━━━━━━━━━━━━━━\u001b[0m\u001b[37m\u001b[0m \u001b[1m5s\u001b[0m 19ms/step - loss: 0.0053 - mean_absolute_error: 0.0512 - learning_rate: 0.0010\n",
      "Epoch 11/100\n",
      "\u001b[1m278/278\u001b[0m \u001b[32m━━━━━━━━━━━━━━━━━━━━\u001b[0m\u001b[37m\u001b[0m \u001b[1m0s\u001b[0m 20ms/step - loss: 0.0052 - mean_absolute_error: 0.0508\n",
      "Epoch 11: loss improved from 0.00525 to 0.00519, saving model to weights.keras\n",
      "\u001b[1m278/278\u001b[0m \u001b[32m━━━━━━━━━━━━━━━━━━━━\u001b[0m\u001b[37m\u001b[0m \u001b[1m6s\u001b[0m 20ms/step - loss: 0.0052 - mean_absolute_error: 0.0508 - learning_rate: 0.0010\n",
      "Epoch 12/100\n",
      "\u001b[1m276/278\u001b[0m \u001b[32m━━━━━━━━━━━━━━━━━━━\u001b[0m\u001b[37m━\u001b[0m \u001b[1m0s\u001b[0m 20ms/step - loss: 0.0052 - mean_absolute_error: 0.0508\n",
      "Epoch 12: loss improved from 0.00519 to 0.00515, saving model to weights.keras\n",
      "\u001b[1m278/278\u001b[0m \u001b[32m━━━━━━━━━━━━━━━━━━━━\u001b[0m\u001b[37m\u001b[0m \u001b[1m6s\u001b[0m 20ms/step - loss: 0.0052 - mean_absolute_error: 0.0508 - learning_rate: 0.0010\n",
      "Epoch 13/100\n",
      "\u001b[1m278/278\u001b[0m \u001b[32m━━━━━━━━━━━━━━━━━━━━\u001b[0m\u001b[37m\u001b[0m \u001b[1m0s\u001b[0m 20ms/step - loss: 0.0051 - mean_absolute_error: 0.0504\n",
      "Epoch 13: loss improved from 0.00515 to 0.00514, saving model to weights.keras\n",
      "\u001b[1m278/278\u001b[0m \u001b[32m━━━━━━━━━━━━━━━━━━━━\u001b[0m\u001b[37m\u001b[0m \u001b[1m6s\u001b[0m 20ms/step - loss: 0.0051 - mean_absolute_error: 0.0504 - learning_rate: 0.0010\n",
      "Epoch 14/100\n",
      "\u001b[1m278/278\u001b[0m \u001b[32m━━━━━━━━━━━━━━━━━━━━\u001b[0m\u001b[37m\u001b[0m \u001b[1m0s\u001b[0m 20ms/step - loss: 0.0051 - mean_absolute_error: 0.0502\n",
      "Epoch 14: loss improved from 0.00514 to 0.00514, saving model to weights.keras\n",
      "\u001b[1m278/278\u001b[0m \u001b[32m━━━━━━━━━━━━━━━━━━━━\u001b[0m\u001b[37m\u001b[0m \u001b[1m6s\u001b[0m 20ms/step - loss: 0.0051 - mean_absolute_error: 0.0502 - learning_rate: 0.0010\n",
      "Epoch 15/100\n",
      "\u001b[1m276/278\u001b[0m \u001b[32m━━━━━━━━━━━━━━━━━━━\u001b[0m\u001b[37m━\u001b[0m \u001b[1m0s\u001b[0m 20ms/step - loss: 0.0052 - mean_absolute_error: 0.0504\n",
      "Epoch 15: loss improved from 0.00514 to 0.00505, saving model to weights.keras\n",
      "\u001b[1m278/278\u001b[0m \u001b[32m━━━━━━━━━━━━━━━━━━━━\u001b[0m\u001b[37m\u001b[0m \u001b[1m6s\u001b[0m 20ms/step - loss: 0.0052 - mean_absolute_error: 0.0503 - learning_rate: 0.0010\n",
      "Epoch 16/100\n",
      "\u001b[1m276/278\u001b[0m \u001b[32m━━━━━━━━━━━━━━━━━━━\u001b[0m\u001b[37m━\u001b[0m \u001b[1m0s\u001b[0m 21ms/step - loss: 0.0050 - mean_absolute_error: 0.0498\n",
      "Epoch 16: loss improved from 0.00505 to 0.00504, saving model to weights.keras\n",
      "\u001b[1m278/278\u001b[0m \u001b[32m━━━━━━━━━━━━━━━━━━━━\u001b[0m\u001b[37m\u001b[0m \u001b[1m6s\u001b[0m 21ms/step - loss: 0.0050 - mean_absolute_error: 0.0498 - learning_rate: 0.0010\n",
      "Epoch 17/100\n",
      "\u001b[1m278/278\u001b[0m \u001b[32m━━━━━━━━━━━━━━━━━━━━\u001b[0m\u001b[37m\u001b[0m \u001b[1m0s\u001b[0m 21ms/step - loss: 0.0050 - mean_absolute_error: 0.0498\n",
      "Epoch 17: loss improved from 0.00504 to 0.00503, saving model to weights.keras\n",
      "\u001b[1m278/278\u001b[0m \u001b[32m━━━━━━━━━━━━━━━━━━━━\u001b[0m\u001b[37m\u001b[0m \u001b[1m6s\u001b[0m 21ms/step - loss: 0.0050 - mean_absolute_error: 0.0498 - learning_rate: 0.0010\n",
      "Epoch 18/100\n",
      "\u001b[1m276/278\u001b[0m \u001b[32m━━━━━━━━━━━━━━━━━━━\u001b[0m\u001b[37m━\u001b[0m \u001b[1m0s\u001b[0m 20ms/step - loss: 0.0051 - mean_absolute_error: 0.0499\n",
      "Epoch 18: loss improved from 0.00503 to 0.00501, saving model to weights.keras\n",
      "\u001b[1m278/278\u001b[0m \u001b[32m━━━━━━━━━━━━━━━━━━━━\u001b[0m\u001b[37m\u001b[0m \u001b[1m6s\u001b[0m 20ms/step - loss: 0.0051 - mean_absolute_error: 0.0499 - learning_rate: 0.0010\n",
      "Epoch 19/100\n",
      "\u001b[1m275/278\u001b[0m \u001b[32m━━━━━━━━━━━━━━━━━━━\u001b[0m\u001b[37m━\u001b[0m \u001b[1m0s\u001b[0m 19ms/step - loss: 0.0049 - mean_absolute_error: 0.0496\n",
      "Epoch 19: loss improved from 0.00501 to 0.00497, saving model to weights.keras\n",
      "\u001b[1m278/278\u001b[0m \u001b[32m━━━━━━━━━━━━━━━━━━━━\u001b[0m\u001b[37m\u001b[0m \u001b[1m5s\u001b[0m 19ms/step - loss: 0.0049 - mean_absolute_error: 0.0496 - learning_rate: 0.0010\n",
      "Epoch 20/100\n",
      "\u001b[1m276/278\u001b[0m \u001b[32m━━━━━━━━━━━━━━━━━━━\u001b[0m\u001b[37m━\u001b[0m \u001b[1m0s\u001b[0m 20ms/step - loss: 0.0049 - mean_absolute_error: 0.0487\n",
      "Epoch 20: ReduceLROnPlateau reducing learning rate to 0.00020000000949949026.\n",
      "\n",
      "Epoch 20: loss improved from 0.00497 to 0.00497, saving model to weights.keras\n",
      "\u001b[1m278/278\u001b[0m \u001b[32m━━━━━━━━━━━━━━━━━━━━\u001b[0m\u001b[37m\u001b[0m \u001b[1m6s\u001b[0m 20ms/step - loss: 0.0049 - mean_absolute_error: 0.0487 - learning_rate: 0.0010\n",
      "Epoch 21/100\n",
      "\u001b[1m276/278\u001b[0m \u001b[32m━━━━━━━━━━━━━━━━━━━\u001b[0m\u001b[37m━\u001b[0m \u001b[1m0s\u001b[0m 20ms/step - loss: 0.0048 - mean_absolute_error: 0.0484\n",
      "Epoch 21: loss improved from 0.00497 to 0.00482, saving model to weights.keras\n",
      "\u001b[1m278/278\u001b[0m \u001b[32m━━━━━━━━━━━━━━━━━━━━\u001b[0m\u001b[37m\u001b[0m \u001b[1m6s\u001b[0m 20ms/step - loss: 0.0048 - mean_absolute_error: 0.0484 - learning_rate: 2.0000e-04\n",
      "Epoch 22/100\n",
      "\u001b[1m277/278\u001b[0m \u001b[32m━━━━━━━━━━━━━━━━━━━\u001b[0m\u001b[37m━\u001b[0m \u001b[1m0s\u001b[0m 20ms/step - loss: 0.0047 - mean_absolute_error: 0.0481\n",
      "Epoch 22: loss improved from 0.00482 to 0.00479, saving model to weights.keras\n",
      "\u001b[1m278/278\u001b[0m \u001b[32m━━━━━━━━━━━━━━━━━━━━\u001b[0m\u001b[37m\u001b[0m \u001b[1m6s\u001b[0m 20ms/step - loss: 0.0047 - mean_absolute_error: 0.0481 - learning_rate: 2.0000e-04\n",
      "Epoch 23/100\n",
      "\u001b[1m276/278\u001b[0m \u001b[32m━━━━━━━━━━━━━━━━━━━\u001b[0m\u001b[37m━\u001b[0m \u001b[1m0s\u001b[0m 20ms/step - loss: 0.0048 - mean_absolute_error: 0.0483\n",
      "Epoch 23: loss did not improve from 0.00479\n",
      "\u001b[1m278/278\u001b[0m \u001b[32m━━━━━━━━━━━━━━━━━━━━\u001b[0m\u001b[37m\u001b[0m \u001b[1m5s\u001b[0m 20ms/step - loss: 0.0048 - mean_absolute_error: 0.0483 - learning_rate: 2.0000e-04\n",
      "Epoch 24/100\n",
      "\u001b[1m277/278\u001b[0m \u001b[32m━━━━━━━━━━━━━━━━━━━\u001b[0m\u001b[37m━\u001b[0m \u001b[1m0s\u001b[0m 21ms/step - loss: 0.0047 - mean_absolute_error: 0.0481\n",
      "Epoch 24: loss improved from 0.00479 to 0.00478, saving model to weights.keras\n",
      "\u001b[1m278/278\u001b[0m \u001b[32m━━━━━━━━━━━━━━━━━━━━\u001b[0m\u001b[37m\u001b[0m \u001b[1m6s\u001b[0m 21ms/step - loss: 0.0047 - mean_absolute_error: 0.0481 - learning_rate: 2.0000e-04\n",
      "Epoch 25/100\n",
      "\u001b[1m276/278\u001b[0m \u001b[32m━━━━━━━━━━━━━━━━━━━\u001b[0m\u001b[37m━\u001b[0m \u001b[1m0s\u001b[0m 19ms/step - loss: 0.0048 - mean_absolute_error: 0.0482\n",
      "Epoch 25: loss improved from 0.00478 to 0.00477, saving model to weights.keras\n",
      "\u001b[1m278/278\u001b[0m \u001b[32m━━━━━━━━━━━━━━━━━━━━\u001b[0m\u001b[37m\u001b[0m \u001b[1m5s\u001b[0m 19ms/step - loss: 0.0048 - mean_absolute_error: 0.0482 - learning_rate: 2.0000e-04\n",
      "Epoch 26/100\n",
      "\u001b[1m275/278\u001b[0m \u001b[32m━━━━━━━━━━━━━━━━━━━\u001b[0m\u001b[37m━\u001b[0m \u001b[1m0s\u001b[0m 18ms/step - loss: 0.0047 - mean_absolute_error: 0.0480\n",
      "Epoch 26: ReduceLROnPlateau reducing learning rate to 4.0000001899898055e-05.\n",
      "\n",
      "Epoch 26: loss improved from 0.00477 to 0.00477, saving model to weights.keras\n",
      "\u001b[1m278/278\u001b[0m \u001b[32m━━━━━━━━━━━━━━━━━━━━\u001b[0m\u001b[37m\u001b[0m \u001b[1m5s\u001b[0m 18ms/step - loss: 0.0047 - mean_absolute_error: 0.0480 - learning_rate: 2.0000e-04\n",
      "Epoch 27/100\n",
      "\u001b[1m276/278\u001b[0m \u001b[32m━━━━━━━━━━━━━━━━━━━\u001b[0m\u001b[37m━\u001b[0m \u001b[1m0s\u001b[0m 18ms/step - loss: 0.0047 - mean_absolute_error: 0.0481\n",
      "Epoch 27: loss improved from 0.00477 to 0.00471, saving model to weights.keras\n",
      "\u001b[1m278/278\u001b[0m \u001b[32m━━━━━━━━━━━━━━━━━━━━\u001b[0m\u001b[37m\u001b[0m \u001b[1m5s\u001b[0m 18ms/step - loss: 0.0047 - mean_absolute_error: 0.0481 - learning_rate: 4.0000e-05\n",
      "Epoch 28/100\n",
      "\u001b[1m275/278\u001b[0m \u001b[32m━━━━━━━━━━━━━━━━━━━\u001b[0m\u001b[37m━\u001b[0m \u001b[1m0s\u001b[0m 18ms/step - loss: 0.0046 - mean_absolute_error: 0.0473\n",
      "Epoch 28: loss improved from 0.00471 to 0.00471, saving model to weights.keras\n",
      "\u001b[1m278/278\u001b[0m \u001b[32m━━━━━━━━━━━━━━━━━━━━\u001b[0m\u001b[37m\u001b[0m \u001b[1m5s\u001b[0m 19ms/step - loss: 0.0046 - mean_absolute_error: 0.0473 - learning_rate: 4.0000e-05\n",
      "Epoch 29/100\n",
      "\u001b[1m275/278\u001b[0m \u001b[32m━━━━━━━━━━━━━━━━━━━\u001b[0m\u001b[37m━\u001b[0m \u001b[1m0s\u001b[0m 18ms/step - loss: 0.0047 - mean_absolute_error: 0.0478\n",
      "Epoch 29: loss did not improve from 0.00471\n",
      "\u001b[1m278/278\u001b[0m \u001b[32m━━━━━━━━━━━━━━━━━━━━\u001b[0m\u001b[37m\u001b[0m \u001b[1m5s\u001b[0m 18ms/step - loss: 0.0047 - mean_absolute_error: 0.0478 - learning_rate: 4.0000e-05\n",
      "Epoch 30/100\n",
      "\u001b[1m277/278\u001b[0m \u001b[32m━━━━━━━━━━━━━━━━━━━\u001b[0m\u001b[37m━\u001b[0m \u001b[1m0s\u001b[0m 21ms/step - loss: 0.0048 - mean_absolute_error: 0.0481\n",
      "Epoch 30: loss did not improve from 0.00471\n",
      "\u001b[1m278/278\u001b[0m \u001b[32m━━━━━━━━━━━━━━━━━━━━\u001b[0m\u001b[37m\u001b[0m \u001b[1m6s\u001b[0m 21ms/step - loss: 0.0048 - mean_absolute_error: 0.0481 - learning_rate: 4.0000e-05\n",
      "Epoch 31/100\n",
      "\u001b[1m277/278\u001b[0m \u001b[32m━━━━━━━━━━━━━━━━━━━\u001b[0m\u001b[37m━\u001b[0m \u001b[1m0s\u001b[0m 19ms/step - loss: 0.0047 - mean_absolute_error: 0.0478\n",
      "Epoch 31: loss did not improve from 0.00471\n",
      "\u001b[1m278/278\u001b[0m \u001b[32m━━━━━━━━━━━━━━━━━━━━\u001b[0m\u001b[37m\u001b[0m \u001b[1m5s\u001b[0m 19ms/step - loss: 0.0047 - mean_absolute_error: 0.0478 - learning_rate: 4.0000e-05\n",
      "Epoch 32/100\n",
      "\u001b[1m275/278\u001b[0m \u001b[32m━━━━━━━━━━━━━━━━━━━\u001b[0m\u001b[37m━\u001b[0m \u001b[1m0s\u001b[0m 18ms/step - loss: 0.0048 - mean_absolute_error: 0.0479\n",
      "Epoch 32: ReduceLROnPlateau reducing learning rate to 8.000000525498762e-06.\n",
      "\n",
      "Epoch 32: loss did not improve from 0.00471\n",
      "\u001b[1m278/278\u001b[0m \u001b[32m━━━━━━━━━━━━━━━━━━━━\u001b[0m\u001b[37m\u001b[0m \u001b[1m5s\u001b[0m 18ms/step - loss: 0.0048 - mean_absolute_error: 0.0479 - learning_rate: 4.0000e-05\n",
      "Epoch 33/100\n",
      "\u001b[1m275/278\u001b[0m \u001b[32m━━━━━━━━━━━━━━━━━━━\u001b[0m\u001b[37m━\u001b[0m \u001b[1m0s\u001b[0m 18ms/step - loss: 0.0047 - mean_absolute_error: 0.0480\n",
      "Epoch 33: loss did not improve from 0.00471\n",
      "\u001b[1m278/278\u001b[0m \u001b[32m━━━━━━━━━━━━━━━━━━━━\u001b[0m\u001b[37m\u001b[0m \u001b[1m5s\u001b[0m 18ms/step - loss: 0.0047 - mean_absolute_error: 0.0480 - learning_rate: 8.0000e-06\n",
      "Epoch 34/100\n",
      "\u001b[1m278/278\u001b[0m \u001b[32m━━━━━━━━━━━━━━━━━━━━\u001b[0m\u001b[37m\u001b[0m \u001b[1m0s\u001b[0m 17ms/step - loss: 0.0048 - mean_absolute_error: 0.0478\n",
      "Epoch 34: loss improved from 0.00471 to 0.00469, saving model to weights.keras\n",
      "\u001b[1m278/278\u001b[0m \u001b[32m━━━━━━━━━━━━━━━━━━━━\u001b[0m\u001b[37m\u001b[0m \u001b[1m5s\u001b[0m 18ms/step - loss: 0.0048 - mean_absolute_error: 0.0478 - learning_rate: 8.0000e-06\n",
      "Epoch 35/100\n",
      "\u001b[1m275/278\u001b[0m \u001b[32m━━━━━━━━━━━━━━━━━━━\u001b[0m\u001b[37m━\u001b[0m \u001b[1m0s\u001b[0m 17ms/step - loss: 0.0046 - mean_absolute_error: 0.0472\n",
      "Epoch 35: loss did not improve from 0.00469\n",
      "\u001b[1m278/278\u001b[0m \u001b[32m━━━━━━━━━━━━━━━━━━━━\u001b[0m\u001b[37m\u001b[0m \u001b[1m5s\u001b[0m 17ms/step - loss: 0.0046 - mean_absolute_error: 0.0472 - learning_rate: 8.0000e-06\n",
      "Epoch 36/100\n",
      "\u001b[1m277/278\u001b[0m \u001b[32m━━━━━━━━━━━━━━━━━━━\u001b[0m\u001b[37m━\u001b[0m \u001b[1m0s\u001b[0m 18ms/step - loss: 0.0047 - mean_absolute_error: 0.0477\n",
      "Epoch 36: loss did not improve from 0.00469\n",
      "\u001b[1m278/278\u001b[0m \u001b[32m━━━━━━━━━━━━━━━━━━━━\u001b[0m\u001b[37m\u001b[0m \u001b[1m5s\u001b[0m 18ms/step - loss: 0.0047 - mean_absolute_error: 0.0477 - learning_rate: 8.0000e-06\n",
      "Epoch 37/100\n",
      "\u001b[1m275/278\u001b[0m \u001b[32m━━━━━━━━━━━━━━━━━━━\u001b[0m\u001b[37m━\u001b[0m \u001b[1m0s\u001b[0m 18ms/step - loss: 0.0049 - mean_absolute_error: 0.0481\n",
      "Epoch 37: ReduceLROnPlateau reducing learning rate to 1.6000001778593287e-06.\n",
      "\n",
      "Epoch 37: loss did not improve from 0.00469\n",
      "\u001b[1m278/278\u001b[0m \u001b[32m━━━━━━━━━━━━━━━━━━━━\u001b[0m\u001b[37m\u001b[0m \u001b[1m5s\u001b[0m 18ms/step - loss: 0.0049 - mean_absolute_error: 0.0481 - learning_rate: 8.0000e-06\n",
      "Epoch 38/100\n",
      "\u001b[1m275/278\u001b[0m \u001b[32m━━━━━━━━━━━━━━━━━━━\u001b[0m\u001b[37m━\u001b[0m \u001b[1m0s\u001b[0m 17ms/step - loss: 0.0047 - mean_absolute_error: 0.0478\n",
      "Epoch 38: loss did not improve from 0.00469\n",
      "\u001b[1m278/278\u001b[0m \u001b[32m━━━━━━━━━━━━━━━━━━━━\u001b[0m\u001b[37m\u001b[0m \u001b[1m5s\u001b[0m 17ms/step - loss: 0.0047 - mean_absolute_error: 0.0478 - learning_rate: 1.6000e-06\n",
      "Epoch 39/100\n",
      "\u001b[1m278/278\u001b[0m \u001b[32m━━━━━━━━━━━━━━━━━━━━\u001b[0m\u001b[37m\u001b[0m \u001b[1m0s\u001b[0m 19ms/step - loss: 0.0048 - mean_absolute_error: 0.0480\n",
      "Epoch 39: loss did not improve from 0.00469\n",
      "\u001b[1m278/278\u001b[0m \u001b[32m━━━━━━━━━━━━━━━━━━━━\u001b[0m\u001b[37m\u001b[0m \u001b[1m5s\u001b[0m 19ms/step - loss: 0.0048 - mean_absolute_error: 0.0480 - learning_rate: 1.6000e-06\n",
      "Epoch 40/100\n",
      "\u001b[1m277/278\u001b[0m \u001b[32m━━━━━━━━━━━━━━━━━━━\u001b[0m\u001b[37m━\u001b[0m \u001b[1m0s\u001b[0m 20ms/step - loss: 0.0048 - mean_absolute_error: 0.0482\n",
      "Epoch 40: loss did not improve from 0.00469\n",
      "\u001b[1m278/278\u001b[0m \u001b[32m━━━━━━━━━━━━━━━━━━━━\u001b[0m\u001b[37m\u001b[0m \u001b[1m6s\u001b[0m 20ms/step - loss: 0.0048 - mean_absolute_error: 0.0482 - learning_rate: 1.6000e-06\n",
      "Epoch 41/100\n",
      "\u001b[1m277/278\u001b[0m \u001b[32m━━━━━━━━━━━━━━━━━━━\u001b[0m\u001b[37m━\u001b[0m \u001b[1m0s\u001b[0m 22ms/step - loss: 0.0047 - mean_absolute_error: 0.0478\n",
      "Epoch 41: loss improved from 0.00469 to 0.00468, saving model to weights.keras\n",
      "\u001b[1m278/278\u001b[0m \u001b[32m━━━━━━━━━━━━━━━━━━━━\u001b[0m\u001b[37m\u001b[0m \u001b[1m6s\u001b[0m 22ms/step - loss: 0.0047 - mean_absolute_error: 0.0478 - learning_rate: 1.6000e-06\n",
      "Epoch 42/100\n",
      "\u001b[1m277/278\u001b[0m \u001b[32m━━━━━━━━━━━━━━━━━━━\u001b[0m\u001b[37m━\u001b[0m \u001b[1m0s\u001b[0m 21ms/step - loss: 0.0048 - mean_absolute_error: 0.0480\n",
      "Epoch 42: ReduceLROnPlateau reducing learning rate to 3.200000264769187e-07.\n",
      "\n",
      "Epoch 42: loss did not improve from 0.00468\n",
      "\u001b[1m278/278\u001b[0m \u001b[32m━━━━━━━━━━━━━━━━━━━━\u001b[0m\u001b[37m\u001b[0m \u001b[1m6s\u001b[0m 21ms/step - loss: 0.0048 - mean_absolute_error: 0.0480 - learning_rate: 1.6000e-06\n",
      "Epoch 43/100\n",
      "\u001b[1m275/278\u001b[0m \u001b[32m━━━━━━━━━━━━━━━━━━━\u001b[0m\u001b[37m━\u001b[0m \u001b[1m0s\u001b[0m 23ms/step - loss: 0.0047 - mean_absolute_error: 0.0478\n",
      "Epoch 43: loss did not improve from 0.00468\n",
      "\u001b[1m278/278\u001b[0m \u001b[32m━━━━━━━━━━━━━━━━━━━━\u001b[0m\u001b[37m\u001b[0m \u001b[1m6s\u001b[0m 23ms/step - loss: 0.0047 - mean_absolute_error: 0.0478 - learning_rate: 3.2000e-07\n",
      "Epoch 44/100\n",
      "\u001b[1m276/278\u001b[0m \u001b[32m━━━━━━━━━━━━━━━━━━━\u001b[0m\u001b[37m━\u001b[0m \u001b[1m0s\u001b[0m 21ms/step - loss: 0.0046 - mean_absolute_error: 0.0476\n",
      "Epoch 44: loss did not improve from 0.00468\n",
      "\u001b[1m278/278\u001b[0m \u001b[32m━━━━━━━━━━━━━━━━━━━━\u001b[0m\u001b[37m\u001b[0m \u001b[1m6s\u001b[0m 21ms/step - loss: 0.0046 - mean_absolute_error: 0.0476 - learning_rate: 3.2000e-07\n",
      "Epoch 45/100\n",
      "\u001b[1m275/278\u001b[0m \u001b[32m━━━━━━━━━━━━━━━━━━━\u001b[0m\u001b[37m━\u001b[0m \u001b[1m0s\u001b[0m 20ms/step - loss: 0.0047 - mean_absolute_error: 0.0481\n",
      "Epoch 45: loss did not improve from 0.00468\n",
      "\u001b[1m278/278\u001b[0m \u001b[32m━━━━━━━━━━━━━━━━━━━━\u001b[0m\u001b[37m\u001b[0m \u001b[1m6s\u001b[0m 20ms/step - loss: 0.0047 - mean_absolute_error: 0.0481 - learning_rate: 3.2000e-07\n",
      "Epoch 46/100\n",
      "\u001b[1m277/278\u001b[0m \u001b[32m━━━━━━━━━━━━━━━━━━━\u001b[0m\u001b[37m━\u001b[0m \u001b[1m0s\u001b[0m 20ms/step - loss: 0.0048 - mean_absolute_error: 0.0480\n",
      "Epoch 46: loss did not improve from 0.00468\n",
      "\u001b[1m278/278\u001b[0m \u001b[32m━━━━━━━━━━━━━━━━━━━━\u001b[0m\u001b[37m\u001b[0m \u001b[1m6s\u001b[0m 20ms/step - loss: 0.0048 - mean_absolute_error: 0.0480 - learning_rate: 3.2000e-07\n",
      "Epoch 47/100\n",
      "\u001b[1m278/278\u001b[0m \u001b[32m━━━━━━━━━━━━━━━━━━━━\u001b[0m\u001b[37m\u001b[0m \u001b[1m0s\u001b[0m 21ms/step - loss: 0.0047 - mean_absolute_error: 0.0477\n",
      "Epoch 47: ReduceLROnPlateau reducing learning rate to 6.400000529538374e-08.\n",
      "\n",
      "Epoch 47: loss did not improve from 0.00468\n",
      "\u001b[1m278/278\u001b[0m \u001b[32m━━━━━━━━━━━━━━━━━━━━\u001b[0m\u001b[37m\u001b[0m \u001b[1m6s\u001b[0m 21ms/step - loss: 0.0047 - mean_absolute_error: 0.0477 - learning_rate: 3.2000e-07\n",
      "Epoch 48/100\n",
      "\u001b[1m278/278\u001b[0m \u001b[32m━━━━━━━━━━━━━━━━━━━━\u001b[0m\u001b[37m\u001b[0m \u001b[1m0s\u001b[0m 21ms/step - loss: 0.0046 - mean_absolute_error: 0.0472\n",
      "Epoch 48: loss improved from 0.00468 to 0.00468, saving model to weights.keras\n",
      "\u001b[1m278/278\u001b[0m \u001b[32m━━━━━━━━━━━━━━━━━━━━\u001b[0m\u001b[37m\u001b[0m \u001b[1m6s\u001b[0m 21ms/step - loss: 0.0046 - mean_absolute_error: 0.0472 - learning_rate: 6.4000e-08\n",
      "Epoch 49/100\n",
      "\u001b[1m276/278\u001b[0m \u001b[32m━━━━━━━━━━━━━━━━━━━\u001b[0m\u001b[37m━\u001b[0m \u001b[1m0s\u001b[0m 20ms/step - loss: 0.0047 - mean_absolute_error: 0.0479\n",
      "Epoch 49: loss did not improve from 0.00468\n",
      "\u001b[1m278/278\u001b[0m \u001b[32m━━━━━━━━━━━━━━━━━━━━\u001b[0m\u001b[37m\u001b[0m \u001b[1m6s\u001b[0m 20ms/step - loss: 0.0047 - mean_absolute_error: 0.0479 - learning_rate: 6.4000e-08\n",
      "Epoch 50/100\n",
      "\u001b[1m276/278\u001b[0m \u001b[32m━━━━━━━━━━━━━━━━━━━\u001b[0m\u001b[37m━\u001b[0m \u001b[1m0s\u001b[0m 20ms/step - loss: 0.0047 - mean_absolute_error: 0.0478\n",
      "Epoch 50: loss did not improve from 0.00468\n",
      "\u001b[1m278/278\u001b[0m \u001b[32m━━━━━━━━━━━━━━━━━━━━\u001b[0m\u001b[37m\u001b[0m \u001b[1m6s\u001b[0m 20ms/step - loss: 0.0047 - mean_absolute_error: 0.0478 - learning_rate: 6.4000e-08\n",
      "Epoch 51/100\n",
      "\u001b[1m276/278\u001b[0m \u001b[32m━━━━━━━━━━━━━━━━━━━\u001b[0m\u001b[37m━\u001b[0m \u001b[1m0s\u001b[0m 20ms/step - loss: 0.0047 - mean_absolute_error: 0.0481\n",
      "Epoch 51: loss did not improve from 0.00468\n",
      "\u001b[1m278/278\u001b[0m \u001b[32m━━━━━━━━━━━━━━━━━━━━\u001b[0m\u001b[37m\u001b[0m \u001b[1m5s\u001b[0m 20ms/step - loss: 0.0047 - mean_absolute_error: 0.0480 - learning_rate: 6.4000e-08\n",
      "Epoch 52/100\n",
      "\u001b[1m278/278\u001b[0m \u001b[32m━━━━━━━━━━━━━━━━━━━━\u001b[0m\u001b[37m\u001b[0m \u001b[1m0s\u001b[0m 20ms/step - loss: 0.0049 - mean_absolute_error: 0.0483\n",
      "Epoch 52: ReduceLROnPlateau reducing learning rate to 1.2800001059076749e-08.\n",
      "\n",
      "Epoch 52: loss did not improve from 0.00468\n",
      "\u001b[1m278/278\u001b[0m \u001b[32m━━━━━━━━━━━━━━━━━━━━\u001b[0m\u001b[37m\u001b[0m \u001b[1m6s\u001b[0m 20ms/step - loss: 0.0049 - mean_absolute_error: 0.0483 - learning_rate: 6.4000e-08\n",
      "Epoch 53/100\n",
      "\u001b[1m276/278\u001b[0m \u001b[32m━━━━━━━━━━━━━━━━━━━\u001b[0m\u001b[37m━\u001b[0m \u001b[1m0s\u001b[0m 20ms/step - loss: 0.0047 - mean_absolute_error: 0.0477\n",
      "Epoch 53: loss did not improve from 0.00468\n",
      "\u001b[1m278/278\u001b[0m \u001b[32m━━━━━━━━━━━━━━━━━━━━\u001b[0m\u001b[37m\u001b[0m \u001b[1m6s\u001b[0m 20ms/step - loss: 0.0047 - mean_absolute_error: 0.0477 - learning_rate: 1.2800e-08\n",
      "Epoch 54/100\n",
      "\u001b[1m276/278\u001b[0m \u001b[32m━━━━━━━━━━━━━━━━━━━\u001b[0m\u001b[37m━\u001b[0m \u001b[1m0s\u001b[0m 20ms/step - loss: 0.0047 - mean_absolute_error: 0.0476\n",
      "Epoch 54: loss did not improve from 0.00468\n",
      "\u001b[1m278/278\u001b[0m \u001b[32m━━━━━━━━━━━━━━━━━━━━\u001b[0m\u001b[37m\u001b[0m \u001b[1m6s\u001b[0m 20ms/step - loss: 0.0047 - mean_absolute_error: 0.0476 - learning_rate: 1.2800e-08\n",
      "Epoch 55/100\n",
      "\u001b[1m278/278\u001b[0m \u001b[32m━━━━━━━━━━━━━━━━━━━━\u001b[0m\u001b[37m\u001b[0m \u001b[1m0s\u001b[0m 20ms/step - loss: 0.0047 - mean_absolute_error: 0.0475\n",
      "Epoch 55: loss did not improve from 0.00468\n",
      "\u001b[1m278/278\u001b[0m \u001b[32m━━━━━━━━━━━━━━━━━━━━\u001b[0m\u001b[37m\u001b[0m \u001b[1m6s\u001b[0m 20ms/step - loss: 0.0047 - mean_absolute_error: 0.0475 - learning_rate: 1.2800e-08\n",
      "Epoch 56/100\n",
      "\u001b[1m277/278\u001b[0m \u001b[32m━━━━━━━━━━━━━━━━━━━\u001b[0m\u001b[37m━\u001b[0m \u001b[1m0s\u001b[0m 22ms/step - loss: 0.0046 - mean_absolute_error: 0.0475\n",
      "Epoch 56: loss did not improve from 0.00468\n",
      "\u001b[1m278/278\u001b[0m \u001b[32m━━━━━━━━━━━━━━━━━━━━\u001b[0m\u001b[37m\u001b[0m \u001b[1m6s\u001b[0m 22ms/step - loss: 0.0046 - mean_absolute_error: 0.0475 - learning_rate: 1.2800e-08\n",
      "Epoch 57/100\n",
      "\u001b[1m277/278\u001b[0m \u001b[32m━━━━━━━━━━━━━━━━━━━\u001b[0m\u001b[37m━\u001b[0m \u001b[1m0s\u001b[0m 21ms/step - loss: 0.0046 - mean_absolute_error: 0.0474\n",
      "Epoch 57: ReduceLROnPlateau reducing learning rate to 2.5600002118153498e-09.\n",
      "\n",
      "Epoch 57: loss did not improve from 0.00468\n",
      "\u001b[1m278/278\u001b[0m \u001b[32m━━━━━━━━━━━━━━━━━━━━\u001b[0m\u001b[37m\u001b[0m \u001b[1m6s\u001b[0m 21ms/step - loss: 0.0046 - mean_absolute_error: 0.0474 - learning_rate: 1.2800e-08\n",
      "Epoch 58/100\n",
      "\u001b[1m275/278\u001b[0m \u001b[32m━━━━━━━━━━━━━━━━━━━\u001b[0m\u001b[37m━\u001b[0m \u001b[1m0s\u001b[0m 21ms/step - loss: 0.0047 - mean_absolute_error: 0.0481\n",
      "Epoch 58: loss did not improve from 0.00468\n",
      "\u001b[1m278/278\u001b[0m \u001b[32m━━━━━━━━━━━━━━━━━━━━\u001b[0m\u001b[37m\u001b[0m \u001b[1m6s\u001b[0m 21ms/step - loss: 0.0047 - mean_absolute_error: 0.0481 - learning_rate: 2.5600e-09\n",
      "Epoch 58: early stopping\n"
     ]
    },
    {
     "data": {
      "text/plain": [
       "<keras.src.callbacks.history.History at 0x1731e4da950>"
      ]
     },
     "execution_count": 43,
     "metadata": {},
     "output_type": "execute_result"
    }
   ],
   "source": [
    "model.fit(\n",
    "    x_train,\n",
    "    y_train,\n",
    "    epochs= 100,\n",
    "    batch_size= 128,\n",
    "    callbacks= [es, rlr, mcp]\n",
    ")"
   ]
  },
  {
   "cell_type": "code",
   "execution_count": 44,
   "metadata": {},
   "outputs": [
    {
     "name": "stdout",
     "output_type": "stream",
     "text": [
      "\u001b[1m196/196\u001b[0m \u001b[32m━━━━━━━━━━━━━━━━━━━━\u001b[0m\u001b[37m\u001b[0m \u001b[1m1s\u001b[0m 5ms/step\n"
     ]
    }
   ],
   "source": [
    "predictions  = model.predict(x_test)"
   ]
  },
  {
   "cell_type": "code",
   "execution_count": 45,
   "metadata": {},
   "outputs": [
    {
     "data": {
      "text/plain": [
       "0.046430149027993896"
      ]
     },
     "execution_count": 45,
     "metadata": {},
     "output_type": "execute_result"
    }
   ],
   "source": [
    "from sklearn.metrics import mean_absolute_error\n",
    "mean_absolute_error(y_test, predictions)"
   ]
  },
  {
   "cell_type": "code",
   "execution_count": 59,
   "metadata": {},
   "outputs": [
    {
     "data": {
      "text/plain": [
       "(6263, 1)"
      ]
     },
     "execution_count": 59,
     "metadata": {},
     "output_type": "execute_result"
    }
   ],
   "source": [
    "y_test.shape"
   ]
  },
  {
   "cell_type": "code",
   "execution_count": 63,
   "metadata": {},
   "outputs": [],
   "source": [
    "y_test_padded = np.hstack([y_test, np.zeros((y_test.shape[0], 6))])"
   ]
  },
  {
   "cell_type": "code",
   "execution_count": 65,
   "metadata": {},
   "outputs": [],
   "source": [
    "y_test = normalizer.inverse_transform(y_test_padded)"
   ]
  },
  {
   "cell_type": "code",
   "execution_count": 66,
   "metadata": {},
   "outputs": [],
   "source": [
    "y_test = y_test[:, 0]"
   ]
  },
  {
   "cell_type": "code",
   "execution_count": 67,
   "metadata": {},
   "outputs": [
    {
     "data": {
      "text/plain": [
       "array([ 94.,   7., 113., ..., 183.,  95., 143.])"
      ]
     },
     "execution_count": 67,
     "metadata": {},
     "output_type": "execute_result"
    }
   ],
   "source": [
    "y_test"
   ]
  },
  {
   "cell_type": "code",
   "execution_count": 69,
   "metadata": {},
   "outputs": [
    {
     "data": {
      "text/plain": [
       "array([ 89.73321377,  49.87627543,  82.16357049, ..., 103.44112201,\n",
       "        98.83005999, 118.29304571])"
      ]
     },
     "execution_count": 69,
     "metadata": {},
     "output_type": "execute_result"
    }
   ],
   "source": [
    "predictions_padded = np.hstack([predictions, np.zeros((y_test.shape[0], 6))])\n",
    "predictions_padded = normalizer.inverse_transform(predictions_padded)\n",
    "predictions = predictions_padded[:, 0]\n",
    "predictions"
   ]
  },
  {
   "cell_type": "code",
   "execution_count": 71,
   "metadata": {},
   "outputs": [
    {
     "data": {
      "text/plain": [
       "<matplotlib.legend.Legend at 0x17323f9abd0>"
      ]
     },
     "execution_count": 71,
     "metadata": {},
     "output_type": "execute_result"
    },
    {
     "data": {
      "image/png": "[encoded data removed]",
      "text/plain": [
       "<Figure size 640x480 with 1 Axes>"
      ]
     },
     "metadata": {},
     "output_type": "display_data"
    }
   ],
   "source": [
    "plt.plot(y_test, color= \"red\", label= \"Real Air Pollution\")\n",
    "plt.plot(predictions, color= \"blue\", label= \"Predicted Air Pollution\")\n",
    "plt.title(\"Air Pollution\")\n",
    "plt.xlabel(\"Time\")\n",
    "plt.ylabel(\"Pollution Level\")\n",
    "plt.legend()"
   ]
  }
 ],
 "metadata": {
  "kernelspec": {
   "display_name": "venv",
   "language": "python",
   "name": "python3"
  },
  "language_info": {
   "codemirror_mode": {
    "name": "ipython",
    "version": 3
   },
   "file_extension": ".py",
   "mimetype": "text/x-python",
   "name": "python",
   "nbconvert_exporter": "python",
   "pygments_lexer": "ipython3",
   "version": "3.11.6"
  }
 },
 "nbformat": 4,
 "nbformat_minor": 2
}
