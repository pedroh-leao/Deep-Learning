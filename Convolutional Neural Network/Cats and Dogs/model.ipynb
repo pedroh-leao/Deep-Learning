{
 "cells": [
  {
   "cell_type": "markdown",
   "metadata": {},
   "source": [
    "# Convolutional Neural Network To Classify Images Of Cats And Dogs"
   ]
  },
  {
   "cell_type": "code",
   "execution_count": 1,
   "metadata": {},
   "outputs": [],
   "source": [
    "import tensorflow as tf\n",
    "import numpy as np\n",
    "import tempfile\n",
    "import zipfile"
   ]
  },
  {
   "cell_type": "code",
   "execution_count": 8,
   "metadata": {},
   "outputs": [],
   "source": [
    "from tensorflow.keras.models import Sequential\n",
    "from tensorflow.keras.layers import InputLayer, Dense, Dropout, Conv2D, MaxPooling2D, Flatten, BatchNormalization\n",
    "from tensorflow.keras.preprocessing import image\n",
    "from tensorflow.keras.preprocessing.image import ImageDataGenerator"
   ]
  },
  {
   "cell_type": "code",
   "execution_count": 3,
   "metadata": {},
   "outputs": [],
   "source": [
    "temp_dir = tempfile.TemporaryDirectory()\n",
    "\n",
    "with zipfile.ZipFile('dataset.zip', 'r') as zip:\n",
    "    zip.extractall(temp_dir.name)"
   ]
  },
  {
   "cell_type": "code",
   "execution_count": 9,
   "metadata": {},
   "outputs": [],
   "source": [
    "model = Sequential()\n",
    "model.add(InputLayer(shape= (64, 64, 3)))\n",
    "\n",
    "model.add(Conv2D(filters= 32, kernel_size= (3, 3), activation= 'relu'))\n",
    "model.add(BatchNormalization())\n",
    "model.add(MaxPooling2D(pool_size= (2, 2)))\n",
    "\n",
    "model.add(Conv2D(filters= 32, kernel_size= (3, 3), activation= 'relu'))\n",
    "model.add(BatchNormalization())\n",
    "model.add(MaxPooling2D(pool_size= (2, 2)))\n",
    "\n",
    "model.add(Flatten())\n",
    "\n",
    "model.add(Dense(units= 128, activation= 'relu'))\n",
    "model.add(Dropout(rate= 0.2))\n",
    "model.add(Dense(units= 128, activation= 'relu'))\n",
    "model.add(Dropout(rate= 0.2))\n",
    "\n",
    "model.add(Dense(units= 1, activation= 'sigmoid'))"
   ]
  },
  {
   "cell_type": "code",
   "execution_count": null,
   "metadata": {},
   "outputs": [],
   "source": [
    "model.compile(optimizer= tf.keras.optimizers.Adam(), loss= 'binary_crossentropy', metrics= ['accuracy', ])"
   ]
  },
  {
   "cell_type": "code",
   "execution_count": 12,
   "metadata": {},
   "outputs": [],
   "source": [
    "generator_train = ImageDataGenerator(rescale= 1./255, rotation_range= 7, horizontal_flip= True, shear_range= 0.2, height_shift_range= 0.07, zoom_range= 0.2)\n",
    "generator_test = ImageDataGenerator(rescale= 1./255)"
   ]
  },
  {
   "cell_type": "code",
   "execution_count": 13,
   "metadata": {},
   "outputs": [
    {
     "name": "stdout",
     "output_type": "stream",
     "text": [
      "Found 4000 images belonging to 2 classes.\n",
      "Found 1000 images belonging to 2 classes.\n"
     ]
    }
   ],
   "source": [
    "dataset_train = generator_train.flow_from_directory(f'{temp_dir.name}/dataset/training_set', target_size= (64, 64), batch_size= 32, class_mode= 'binary')\n",
    "dataset_test = generator_test.flow_from_directory(f'{temp_dir.name}/dataset/test_set', target_size= (64, 64), batch_size= 32, class_mode= 'binary')"
   ]
  },
  {
   "cell_type": "code",
   "execution_count": 14,
   "metadata": {},
   "outputs": [
    {
     "name": "stderr",
     "output_type": "stream",
     "text": [
      "c:\\Users\\Pedro\\Documents\\codigos\\Deep-Learning\\venv\\Lib\\site-packages\\keras\\src\\trainers\\data_adapters\\py_dataset_adapter.py:121: UserWarning: Your `PyDataset` class should call `super().__init__(**kwargs)` in its constructor. `**kwargs` can include `workers`, `use_multiprocessing`, `max_queue_size`. Do not pass these arguments to `fit()`, as they will be ignored.\n",
      "  self._warn_if_super_not_called()\n"
     ]
    },
    {
     "name": "stdout",
     "output_type": "stream",
     "text": [
      "Epoch 1/10\n",
      "\u001b[1m125/125\u001b[0m \u001b[32m━━━━━━━━━━━━━━━━━━━━\u001b[0m\u001b[37m\u001b[0m \u001b[1m0s\u001b[0m 234ms/step - accuracy: 0.5556 - loss: 0.9221"
     ]
    },
    {
     "name": "stderr",
     "output_type": "stream",
     "text": [
      "c:\\Users\\Pedro\\Documents\\codigos\\Deep-Learning\\venv\\Lib\\site-packages\\keras\\src\\trainers\\data_adapters\\py_dataset_adapter.py:121: UserWarning: Your `PyDataset` class should call `super().__init__(**kwargs)` in its constructor. `**kwargs` can include `workers`, `use_multiprocessing`, `max_queue_size`. Do not pass these arguments to `fit()`, as they will be ignored.\n",
      "  self._warn_if_super_not_called()\n"
     ]
    },
    {
     "name": "stdout",
     "output_type": "stream",
     "text": [
      "\u001b[1m125/125\u001b[0m \u001b[32m━━━━━━━━━━━━━━━━━━━━\u001b[0m\u001b[37m\u001b[0m \u001b[1m37s\u001b[0m 279ms/step - accuracy: 0.5557 - loss: 0.9213 - val_accuracy: 0.5000 - val_loss: 1.5042\n",
      "Epoch 2/10\n",
      "\u001b[1m125/125\u001b[0m \u001b[32m━━━━━━━━━━━━━━━━━━━━\u001b[0m\u001b[37m\u001b[0m \u001b[1m12s\u001b[0m 95ms/step - accuracy: 0.6144 - loss: 0.7019 - val_accuracy: 0.5100 - val_loss: 0.8416\n",
      "Epoch 3/10\n",
      "\u001b[1m125/125\u001b[0m \u001b[32m━━━━━━━━━━━━━━━━━━━━\u001b[0m\u001b[37m\u001b[0m \u001b[1m13s\u001b[0m 101ms/step - accuracy: 0.6560 - loss: 0.6307 - val_accuracy: 0.5750 - val_loss: 0.7589\n",
      "Epoch 4/10\n",
      "\u001b[1m125/125\u001b[0m \u001b[32m━━━━━━━━━━━━━━━━━━━━\u001b[0m\u001b[37m\u001b[0m \u001b[1m13s\u001b[0m 105ms/step - accuracy: 0.6635 - loss: 0.6094 - val_accuracy: 0.6480 - val_loss: 0.6249\n",
      "Epoch 5/10\n",
      "\u001b[1m125/125\u001b[0m \u001b[32m━━━━━━━━━━━━━━━━━━━━\u001b[0m\u001b[37m\u001b[0m \u001b[1m13s\u001b[0m 100ms/step - accuracy: 0.6969 - loss: 0.5809 - val_accuracy: 0.6070 - val_loss: 0.7268\n",
      "Epoch 6/10\n",
      "\u001b[1m125/125\u001b[0m \u001b[32m━━━━━━━━━━━━━━━━━━━━\u001b[0m\u001b[37m\u001b[0m \u001b[1m12s\u001b[0m 96ms/step - accuracy: 0.7103 - loss: 0.5639 - val_accuracy: 0.6610 - val_loss: 0.6407\n",
      "Epoch 7/10\n",
      "\u001b[1m125/125\u001b[0m \u001b[32m━━━━━━━━━━━━━━━━━━━━\u001b[0m\u001b[37m\u001b[0m \u001b[1m12s\u001b[0m 94ms/step - accuracy: 0.7155 - loss: 0.5571 - val_accuracy: 0.6670 - val_loss: 0.5953\n",
      "Epoch 8/10\n",
      "\u001b[1m125/125\u001b[0m \u001b[32m━━━━━━━━━━━━━━━━━━━━\u001b[0m\u001b[37m\u001b[0m \u001b[1m12s\u001b[0m 94ms/step - accuracy: 0.7303 - loss: 0.5361 - val_accuracy: 0.6280 - val_loss: 0.7283\n",
      "Epoch 9/10\n",
      "\u001b[1m125/125\u001b[0m \u001b[32m━━━━━━━━━━━━━━━━━━━━\u001b[0m\u001b[37m\u001b[0m \u001b[1m12s\u001b[0m 93ms/step - accuracy: 0.7323 - loss: 0.5202 - val_accuracy: 0.6870 - val_loss: 0.5826\n",
      "Epoch 10/10\n",
      "\u001b[1m125/125\u001b[0m \u001b[32m━━━━━━━━━━━━━━━━━━━━\u001b[0m\u001b[37m\u001b[0m \u001b[1m13s\u001b[0m 102ms/step - accuracy: 0.7498 - loss: 0.4985 - val_accuracy: 0.6750 - val_loss: 0.6142\n"
     ]
    },
    {
     "data": {
      "text/plain": [
       "<keras.src.callbacks.history.History at 0x1bc393c4a90>"
      ]
     },
     "execution_count": 14,
     "metadata": {},
     "output_type": "execute_result"
    }
   ],
   "source": [
    "model.fit(\n",
    "    dataset_train,\n",
    "    epochs= 10,\n",
    "    validation_data= dataset_test\n",
    ")"
   ]
  },
  {
   "cell_type": "code",
   "execution_count": 15,
   "metadata": {},
   "outputs": [
    {
     "data": {
      "image/jpeg": "[encoded data removed]",
      "image/png": "[encoded data removed]",
      "text/plain": [
       "<PIL.Image.Image image mode=RGB size=64x64>"
      ]
     },
     "execution_count": 15,
     "metadata": {},
     "output_type": "execute_result"
    }
   ],
   "source": [
    "image_test = image.load_img(f'{temp_dir.name}/dataset/test_set/cachorro/dog.3500.jpg', target_size= (64, 64))\n",
    "image_test"
   ]
  },
  {
   "cell_type": "code",
   "execution_count": 16,
   "metadata": {},
   "outputs": [
    {
     "data": {
      "text/plain": [
       "PIL.Image.Image"
      ]
     },
     "execution_count": 16,
     "metadata": {},
     "output_type": "execute_result"
    }
   ],
   "source": [
    "type(image_test)"
   ]
  },
  {
   "cell_type": "code",
   "execution_count": 18,
   "metadata": {},
   "outputs": [
    {
     "data": {
      "text/plain": [
       "array([[[0.47058824, 0.49019608, 0.46666667],\n",
       "        [0.41568628, 0.43529412, 0.4117647 ],\n",
       "        [0.44705883, 0.46666667, 0.44313726],\n",
       "        ...,\n",
       "        [0.22745098, 0.16470589, 0.11372549],\n",
       "        [0.25490198, 0.14901961, 0.11372549],\n",
       "        [0.27450982, 0.13725491, 0.11372549]],\n",
       "\n",
       "       [[0.4117647 , 0.43137255, 0.40784314],\n",
       "        [0.5058824 , 0.5254902 , 0.5019608 ],\n",
       "        [0.5254902 , 0.54509807, 0.52156866],\n",
       "        ...,\n",
       "        [0.23137255, 0.16078432, 0.11372549],\n",
       "        [0.25882354, 0.16470589, 0.1254902 ],\n",
       "        [0.27058825, 0.15686275, 0.1254902 ]],\n",
       "\n",
       "       [[0.49411765, 0.5137255 , 0.49019608],\n",
       "        [0.5137255 , 0.53333336, 0.50980395],\n",
       "        [0.4627451 , 0.48235294, 0.45882353],\n",
       "        ...,\n",
       "        [0.2509804 , 0.15686275, 0.11764706],\n",
       "        [0.2509804 , 0.16470589, 0.12156863],\n",
       "        [0.24705882, 0.16078432, 0.11764706]],\n",
       "\n",
       "       ...,\n",
       "\n",
       "       [[0.61960787, 0.64705884, 0.7176471 ],\n",
       "        [0.7372549 , 0.7764706 , 0.8156863 ],\n",
       "        [0.72156864, 0.76862746, 0.8156863 ],\n",
       "        ...,\n",
       "        [0.3764706 , 0.3529412 , 0.36078432],\n",
       "        [0.3529412 , 0.32941177, 0.3372549 ],\n",
       "        [0.29803923, 0.27450982, 0.28235295]],\n",
       "\n",
       "       [[0.6666667 , 0.6745098 , 0.7254902 ],\n",
       "        [0.76862746, 0.7764706 , 0.827451  ],\n",
       "        [0.7411765 , 0.7490196 , 0.79607844],\n",
       "        ...,\n",
       "        [0.3764706 , 0.34117648, 0.3529412 ],\n",
       "        [0.33333334, 0.29803923, 0.30980393],\n",
       "        [0.3254902 , 0.2901961 , 0.3019608 ]],\n",
       "\n",
       "       [[0.6901961 , 0.7019608 , 0.72156864],\n",
       "        [0.7254902 , 0.7372549 , 0.75686276],\n",
       "        [0.72156864, 0.7372549 , 0.7490196 ],\n",
       "        ...,\n",
       "        [0.36862746, 0.33333334, 0.34509805],\n",
       "        [0.3372549 , 0.3019608 , 0.3137255 ],\n",
       "        [0.38431373, 0.34901962, 0.36078432]]], dtype=float32)"
      ]
     },
     "execution_count": 18,
     "metadata": {},
     "output_type": "execute_result"
    }
   ],
   "source": [
    "image_test = image.img_to_array(image_test)\n",
    "image_test /= 255\n",
    "image_test"
   ]
  },
  {
   "cell_type": "code",
   "execution_count": 19,
   "metadata": {},
   "outputs": [
    {
     "data": {
      "text/plain": [
       "(64, 64, 3)"
      ]
     },
     "execution_count": 19,
     "metadata": {},
     "output_type": "execute_result"
    }
   ],
   "source": [
    "image_test.shape"
   ]
  },
  {
   "cell_type": "code",
   "execution_count": 20,
   "metadata": {},
   "outputs": [
    {
     "data": {
      "text/plain": [
       "(1, 64, 64, 3)"
      ]
     },
     "execution_count": 20,
     "metadata": {},
     "output_type": "execute_result"
    }
   ],
   "source": [
    "image_test = np.expand_dims(image_test, axis= 0)\n",
    "image_test.shape"
   ]
  },
  {
   "cell_type": "code",
   "execution_count": 21,
   "metadata": {},
   "outputs": [
    {
     "name": "stdout",
     "output_type": "stream",
     "text": [
      "\u001b[1m1/1\u001b[0m \u001b[32m━━━━━━━━━━━━━━━━━━━━\u001b[0m\u001b[37m\u001b[0m \u001b[1m0s\u001b[0m 87ms/step\n"
     ]
    },
    {
     "data": {
      "text/plain": [
       "array([[0.28967556]], dtype=float32)"
      ]
     },
     "execution_count": 21,
     "metadata": {},
     "output_type": "execute_result"
    }
   ],
   "source": [
    "prediction = model.predict(image_test)\n",
    "prediction"
   ]
  },
  {
   "cell_type": "code",
   "execution_count": 22,
   "metadata": {},
   "outputs": [
    {
     "data": {
      "text/plain": [
       "{'cachorro': 0, 'gato': 1}"
      ]
     },
     "execution_count": 22,
     "metadata": {},
     "output_type": "execute_result"
    }
   ],
   "source": [
    "dataset_train.class_indices"
   ]
  },
  {
   "cell_type": "code",
   "execution_count": 23,
   "metadata": {},
   "outputs": [
    {
     "data": {
      "text/plain": [
       "['Cachorro']"
      ]
     },
     "execution_count": 23,
     "metadata": {},
     "output_type": "execute_result"
    }
   ],
   "source": [
    "prediction = ['Gato' if p > 0.5 else 'Cachorro' for p in prediction]\n",
    "prediction"
   ]
  }
 ],
 "metadata": {
  "kernelspec": {
   "display_name": "venv",
   "language": "python",
   "name": "python3"
  },
  "language_info": {
   "codemirror_mode": {
    "name": "ipython",
    "version": 3
   },
   "file_extension": ".py",
   "mimetype": "text/x-python",
   "name": "python",
   "nbconvert_exporter": "python",
   "pygments_lexer": "ipython3",
   "version": "3.11.6"
  }
 },
 "nbformat": 4,
 "nbformat_minor": 2
}
